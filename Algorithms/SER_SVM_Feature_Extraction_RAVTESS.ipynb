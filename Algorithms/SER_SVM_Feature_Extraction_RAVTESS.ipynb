{
  "cells": [
    {
      "cell_type": "markdown",
      "metadata": {
        "id": "4tjoCZw-qbkW"
      },
      "source": [
        "# Speech Emotion Recognition - Feature Extraction\n",
        "\n",
        "Databases used\n",
        "\n",
        "* The Ryerson Audio-Visual Database of Emotional Speech and Song (RAVDESS)\n",
        "* Toronto emotional speech set (TESS)"
      ]
    },
    {
      "cell_type": "code",
      "source": [
        "from google.colab import drive\n",
        "\n",
        "drive.mount('/content/drive')"
      ],
      "metadata": {
        "colab": {
          "base_uri": "https://localhost:8080/"
        },
        "id": "rgks3WG-qllu",
        "outputId": "4cd39ba9-3d50-4cab-9621-d905eb883a98"
      },
      "execution_count": null,
      "outputs": [
        {
          "output_type": "stream",
          "name": "stdout",
          "text": [
            "Mounted at /content/drive\n"
          ]
        }
      ]
    },
    {
      "cell_type": "code",
      "source": [
        "%cd drive/MyDrive/SVM"
      ],
      "metadata": {
        "colab": {
          "base_uri": "https://localhost:8080/"
        },
        "id": "AYc92xy7qlwa",
        "outputId": "d4b0a53f-e43c-4f3b-e65c-7bf580a8aa26"
      },
      "execution_count": null,
      "outputs": [
        {
          "output_type": "stream",
          "name": "stdout",
          "text": [
            "/content/drive/MyDrive/SVM\n"
          ]
        }
      ]
    },
    {
      "cell_type": "code",
      "source": [
        "%ls"
      ],
      "metadata": {
        "colab": {
          "base_uri": "https://localhost:8080/"
        },
        "id": "OHDPta_6lC9G",
        "outputId": "b7d36d92-79f1-450c-ae9f-e43581b38f5e"
      },
      "execution_count": null,
      "outputs": [
        {
          "output_type": "stream",
          "name": "stdout",
          "text": [
            "\u001b[0m\u001b[01;34mDatasets\u001b[0m/                  RAVTESS_MFCC_Observed.csv\n",
            "RAVDESS_MFCC_Observed.csv  TESS_MFCC_Observed.csv\n"
          ]
        }
      ]
    },
    {
      "cell_type": "markdown",
      "metadata": {
        "id": "kPpXH0gOqbkd"
      },
      "source": [
        "### Import Libraries\n",
        "\n",
        "Import necessary libraries"
      ]
    },
    {
      "cell_type": "code",
      "execution_count": null,
      "metadata": {
        "id": "4Psuv3UPLaPR"
      },
      "outputs": [],
      "source": [
        "import glob\n",
        "import os\n",
        "import librosa\n",
        "import time\n",
        "import numpy as np\n",
        "import pandas as pd"
      ]
    },
    {
      "cell_type": "markdown",
      "metadata": {
        "id": "rBpIgx9bkdgJ"
      },
      "source": [
        "### Load all files\n",
        "\n",
        "We will create our numpy array extracting Mel-frequency cepstral coefficients (MFCCs) while the classes to predict will be extracted from the name of the file."
      ]
    },
    {
      "cell_type": "markdown",
      "metadata": {
        "id": "PF3xVjDMqbkh"
      },
      "source": [
        "#### Defining emotions to classify \n",
        "\n",
        "Selecting the emotions to be classified. Note that the emotions 'neutral', 'calm' and 'surprised' are only found in RAVDESS dataset and 'pleasantly surprised' or 'ps' is only available in TESS dataset. To combine all the emotions from both datasets into 8 emotion classes, we have changed 'pleasantly surprised' to 'surprised' and 'fearful' to 'fear'"
      ]
    },
    {
      "cell_type": "code",
      "execution_count": null,
      "metadata": {
        "id": "s16XwP5LK8a3"
      },
      "outputs": [],
      "source": [
        "emotions={\n",
        "  '01':'neutral',\n",
        "  '02':'calm',\n",
        "  '03':'happy',\n",
        "  '04':'sad',\n",
        "  '05':'angry',\n",
        "  '06':'fear',\n",
        "  '07':'disgust',\n",
        "  '08':'surprised'\n",
        "}\n",
        "\n",
        "#defined tess emotions to test on TESS dataset only\n",
        "tess_emotions=['angry','disgust','fear','surprised','happy','sad','neutral']\n",
        " \n",
        "##defined RAVDESS emotions to test on RAVDESS dataset only\n",
        "ravdess_emotions=['neutral','calm','angry', 'happy','disgust','sad','fear','surprised']\n",
        "\n",
        "observed_emotions = ['sad','angry','happy','disgust','surprised','neutral','calm','fear']\n",
        "\n"
      ]
    },
    {
      "cell_type": "markdown",
      "metadata": {
        "id": "cCd_6LA4qbki"
      },
      "source": [
        "#### Feature extraction\n",
        "\n",
        "Using librosa package we can extract the MFCC features. This function loads the file give the file path and after resampling and computing MFCC features, returns the features. We have selected the no. of MFCCs as 40.\n",
        "\n",
        "https://librosa.org/librosa/generated/librosa.feature.mfcc.html"
      ]
    },
    {
      "cell_type": "code",
      "execution_count": null,
      "metadata": {
        "id": "h9a81pkWLCs1"
      },
      "outputs": [],
      "source": [
        "def extract_feature(file_name, mfcc):\n",
        "    X, sample_rate = librosa.load(os.path.join(file_name), res_type='kaiser_fast')\n",
        "    result = np.array([])\n",
        "    if mfcc:\n",
        "        mfccs=np.mean(librosa.feature.mfcc(y=X, sr=sample_rate, n_mfcc=40).T, axis=0)\n",
        "        result=np.hstack((result, mfccs))\n",
        "    return result"
      ]
    },
    {
      "cell_type": "markdown",
      "metadata": {
        "id": "APuR4op1qbkk"
      },
      "source": [
        "#### Choosing a dataset\n",
        "\n",
        "Choose the dataset(s) you want to load using the following function"
      ]
    },
    {
      "cell_type": "code",
      "execution_count": null,
      "metadata": {
        "id": "fCfyzKtAqbkl"
      },
      "outputs": [],
      "source": [
        "def dataset_options():\n",
        "    # choose datasets\n",
        "    ravdess = True\n",
        "    tess = True\n",
        "    ravdess_speech = False\n",
        "    ravdess_song = False\n",
        "    data = {'ravdess':ravdess, 'ravdess_speech':ravdess_speech, 'ravdess_song':ravdess_song, 'tess':tess}\n",
        "    print(data)\n",
        "    return data"
      ]
    },
    {
      "cell_type": "markdown",
      "metadata": {
        "id": "cXzIzGOTqbkl"
      },
      "source": [
        "#### Load data\n",
        "\n",
        "Load data from the datasets required which is obtained by calling the function dataset__options(). Extract features from each file with the selected emotions in chosen datasets using the extract_feature() function defined."
      ]
    },
    {
      "cell_type": "code",
      "execution_count": null,
      "metadata": {
        "id": "RaV2hMcxLGZd"
      },
      "outputs": [],
      "source": [
        "def load_data(test_size=0.2): \n",
        "    x,y=[],[]\n",
        "    \n",
        "    # feature to extract\n",
        "    mfcc = True\n",
        "    data = dataset_options()\n",
        "    paths = []\n",
        "    if data['ravdess']:\n",
        "        paths.append(\"Datasets/RAVDESS/*/Actor_*/*.wav\")\n",
        "    elif data['ravdess_speech']:\n",
        "        paths.append(\"Datasets/RAVDESS/Speech/Actor_*/*.wav\")\n",
        "    elif data['ravdess_song']:\n",
        "        paths.append(\"Datasets/RAVDESS/Song/Actor_*/*.wav\")\n",
        "\n",
        "    for path in paths:\n",
        "        for file in glob.glob(path):\n",
        "            file_name=os.path.basename(file)\n",
        "            emotion=emotions[file_name.split(\"-\")[2]] #to get emotion according to filename. dictionary emotions is defined above.\n",
        "            if emotion not in observed_emotions: #options observed_emotions - RAVDESS and TESS, ravdess_emotions for RAVDESS only\n",
        "                continue\n",
        "            iterations = 1\n",
        "            while(iterations<observed_iterations):\n",
        "              iterations = iterations+1\n",
        "            feature=extract_feature(file, mfcc)\n",
        "            x.append(feature)\n",
        "            y.append(emotion)\n",
        "    if data['tess']:\n",
        "        for file in glob.glob(\"Datasets/TESS/*AF_*.wav\"):\n",
        "            file_name=os.path.basename(file)\n",
        "            emotion=file_name.split(\"_\")[2][:-4] #split and remove .wav\n",
        "            if emotion == 'ps':\n",
        "                emotion = 'surprised'\n",
        "            if emotion not in observed_emotions: #options observed_emotions - RAVDESS and TESS, ravdess_emotions for RAVDESS only\n",
        "                continue\n",
        "            feature=extract_feature(file, mfcc)\n",
        "            x.append(feature)\n",
        "            y.append(emotion)\n",
        "            \n",
        "    return {\"X\":x,\"y\":y}"
      ]
    },
    {
      "cell_type": "code",
      "execution_count": null,
      "metadata": {
        "colab": {
          "base_uri": "https://localhost:8080/"
        },
        "id": "LVbx68UMLMAT",
        "outputId": "f29c67ea-f094-4947-cc53-d812aa47720f"
      },
      "outputs": [
        {
          "output_type": "stream",
          "name": "stdout",
          "text": [
            "{'ravdess': True, 'ravdess_speech': False, 'ravdess_song': False, 'tess': True}\n",
            "--- Data loaded. Loading time: 1984.4953927993774 seconds ---\n"
          ]
        }
      ],
      "source": [
        "start_time = time.time()\n",
        "iterations = 1\n",
        "\n",
        "Trial_dict = load_data(test_size = 0.3)\n",
        "\n",
        "print(\"--- Data loaded. Loading time: %s seconds ---\" % (time.time() - start_time))"
      ]
    },
    {
      "cell_type": "code",
      "execution_count": null,
      "metadata": {
        "id": "-WAO-j4iLPSn"
      },
      "outputs": [],
      "source": [
        "X = pd.DataFrame(Trial_dict[\"X\"])\n",
        "y = pd.DataFrame(Trial_dict[\"y\"])"
      ]
    },
    {
      "cell_type": "code",
      "execution_count": null,
      "metadata": {
        "colab": {
          "base_uri": "https://localhost:8080/"
        },
        "id": "Huw2Md1XLQZm",
        "outputId": "dc8682f4-b358-4d9f-959a-f6aebd4ef97e"
      },
      "outputs": [
        {
          "output_type": "execute_result",
          "data": {
            "text/plain": [
              "((5252, 40), (5252, 1))"
            ]
          },
          "metadata": {},
          "execution_count": 11
        }
      ],
      "source": [
        "X.shape, y.shape"
      ]
    },
    {
      "cell_type": "code",
      "execution_count": null,
      "metadata": {
        "id": "4IG9CCt3qbkp"
      },
      "outputs": [],
      "source": [
        "#renaming the label column to emotion\n",
        "y=y.rename(columns= {0: 'emotion'})"
      ]
    },
    {
      "cell_type": "code",
      "execution_count": null,
      "metadata": {
        "id": "DUtdx2Zuqbkp"
      },
      "outputs": [],
      "source": [
        "#concatinating the attributes and label into a single dataframe\n",
        "data = pd.concat([X, y], axis =1)"
      ]
    },
    {
      "cell_type": "code",
      "execution_count": null,
      "metadata": {
        "colab": {
          "base_uri": "https://localhost:8080/"
        },
        "id": "Bl47q3Jbqbkq",
        "outputId": "e9587e9c-3dc1-4530-f529-228f470b53e4"
      },
      "outputs": [
        {
          "output_type": "execute_result",
          "data": {
            "text/plain": [
              "            0          1          2          3          4          5  \\\n",
              "0 -582.839966  31.625124 -26.554098   8.023311 -18.265991 -10.929363   \n",
              "1 -594.304871  37.779697 -26.957352  13.258965 -20.494688  -9.329007   \n",
              "2 -557.573547  32.991276 -30.908392   7.254938 -22.056374  -9.388789   \n",
              "3 -561.938354  34.059616 -34.383072   6.717714 -27.443283 -11.699245   \n",
              "4 -574.555298  35.277279 -21.822271  13.926046 -16.524294  -8.877282   \n",
              "\n",
              "           6          7          8         9  ...        31        32  \\\n",
              "0 -11.114575 -18.726753 -10.231754 -0.531983  ...  1.099666 -1.430102   \n",
              "1 -13.782453 -16.953814 -10.334120 -3.184894  ...  1.277685 -1.734711   \n",
              "2 -13.758408 -17.887318 -10.950238 -1.501468  ...  7.895620 -0.981356   \n",
              "3 -12.053927 -23.312895 -11.367053 -3.053010  ...  4.855764 -3.677525   \n",
              "4 -11.371426 -19.489376  -5.584670 -1.907575  ...  0.755291 -0.458310   \n",
              "\n",
              "          33        34        35        36        37        38         39  \\\n",
              "0  -5.383887 -3.371233 -0.047072  2.375369  0.315157  2.039546   6.139904   \n",
              "1  -5.414732 -3.810104  0.133354  2.128390  0.477521  1.827881   6.518322   \n",
              "2  -9.882403 -4.660424 -2.089421 -1.277220 -1.556431  7.738025   9.197818   \n",
              "3 -10.760934 -4.159203 -2.416040 -1.261963  1.011953  9.588315  10.089292   \n",
              "4  -5.396890 -5.797887 -0.661944  1.487520 -0.044380  0.520410   5.811005   \n",
              "\n",
              "   emotion  \n",
              "0  neutral  \n",
              "1  neutral  \n",
              "2     calm  \n",
              "3     calm  \n",
              "4  neutral  \n",
              "\n",
              "[5 rows x 41 columns]"
            ],
            "text/html": [
              "\n",
              "  <div id=\"df-8cbd3a37-40de-41e8-bc7f-16830431cf0f\">\n",
              "    <div class=\"colab-df-container\">\n",
              "      <div>\n",
              "<style scoped>\n",
              "    .dataframe tbody tr th:only-of-type {\n",
              "        vertical-align: middle;\n",
              "    }\n",
              "\n",
              "    .dataframe tbody tr th {\n",
              "        vertical-align: top;\n",
              "    }\n",
              "\n",
              "    .dataframe thead th {\n",
              "        text-align: right;\n",
              "    }\n",
              "</style>\n",
              "<table border=\"1\" class=\"dataframe\">\n",
              "  <thead>\n",
              "    <tr style=\"text-align: right;\">\n",
              "      <th></th>\n",
              "      <th>0</th>\n",
              "      <th>1</th>\n",
              "      <th>2</th>\n",
              "      <th>3</th>\n",
              "      <th>4</th>\n",
              "      <th>5</th>\n",
              "      <th>6</th>\n",
              "      <th>7</th>\n",
              "      <th>8</th>\n",
              "      <th>9</th>\n",
              "      <th>...</th>\n",
              "      <th>31</th>\n",
              "      <th>32</th>\n",
              "      <th>33</th>\n",
              "      <th>34</th>\n",
              "      <th>35</th>\n",
              "      <th>36</th>\n",
              "      <th>37</th>\n",
              "      <th>38</th>\n",
              "      <th>39</th>\n",
              "      <th>emotion</th>\n",
              "    </tr>\n",
              "  </thead>\n",
              "  <tbody>\n",
              "    <tr>\n",
              "      <th>0</th>\n",
              "      <td>-582.839966</td>\n",
              "      <td>31.625124</td>\n",
              "      <td>-26.554098</td>\n",
              "      <td>8.023311</td>\n",
              "      <td>-18.265991</td>\n",
              "      <td>-10.929363</td>\n",
              "      <td>-11.114575</td>\n",
              "      <td>-18.726753</td>\n",
              "      <td>-10.231754</td>\n",
              "      <td>-0.531983</td>\n",
              "      <td>...</td>\n",
              "      <td>1.099666</td>\n",
              "      <td>-1.430102</td>\n",
              "      <td>-5.383887</td>\n",
              "      <td>-3.371233</td>\n",
              "      <td>-0.047072</td>\n",
              "      <td>2.375369</td>\n",
              "      <td>0.315157</td>\n",
              "      <td>2.039546</td>\n",
              "      <td>6.139904</td>\n",
              "      <td>neutral</td>\n",
              "    </tr>\n",
              "    <tr>\n",
              "      <th>1</th>\n",
              "      <td>-594.304871</td>\n",
              "      <td>37.779697</td>\n",
              "      <td>-26.957352</td>\n",
              "      <td>13.258965</td>\n",
              "      <td>-20.494688</td>\n",
              "      <td>-9.329007</td>\n",
              "      <td>-13.782453</td>\n",
              "      <td>-16.953814</td>\n",
              "      <td>-10.334120</td>\n",
              "      <td>-3.184894</td>\n",
              "      <td>...</td>\n",
              "      <td>1.277685</td>\n",
              "      <td>-1.734711</td>\n",
              "      <td>-5.414732</td>\n",
              "      <td>-3.810104</td>\n",
              "      <td>0.133354</td>\n",
              "      <td>2.128390</td>\n",
              "      <td>0.477521</td>\n",
              "      <td>1.827881</td>\n",
              "      <td>6.518322</td>\n",
              "      <td>neutral</td>\n",
              "    </tr>\n",
              "    <tr>\n",
              "      <th>2</th>\n",
              "      <td>-557.573547</td>\n",
              "      <td>32.991276</td>\n",
              "      <td>-30.908392</td>\n",
              "      <td>7.254938</td>\n",
              "      <td>-22.056374</td>\n",
              "      <td>-9.388789</td>\n",
              "      <td>-13.758408</td>\n",
              "      <td>-17.887318</td>\n",
              "      <td>-10.950238</td>\n",
              "      <td>-1.501468</td>\n",
              "      <td>...</td>\n",
              "      <td>7.895620</td>\n",
              "      <td>-0.981356</td>\n",
              "      <td>-9.882403</td>\n",
              "      <td>-4.660424</td>\n",
              "      <td>-2.089421</td>\n",
              "      <td>-1.277220</td>\n",
              "      <td>-1.556431</td>\n",
              "      <td>7.738025</td>\n",
              "      <td>9.197818</td>\n",
              "      <td>calm</td>\n",
              "    </tr>\n",
              "    <tr>\n",
              "      <th>3</th>\n",
              "      <td>-561.938354</td>\n",
              "      <td>34.059616</td>\n",
              "      <td>-34.383072</td>\n",
              "      <td>6.717714</td>\n",
              "      <td>-27.443283</td>\n",
              "      <td>-11.699245</td>\n",
              "      <td>-12.053927</td>\n",
              "      <td>-23.312895</td>\n",
              "      <td>-11.367053</td>\n",
              "      <td>-3.053010</td>\n",
              "      <td>...</td>\n",
              "      <td>4.855764</td>\n",
              "      <td>-3.677525</td>\n",
              "      <td>-10.760934</td>\n",
              "      <td>-4.159203</td>\n",
              "      <td>-2.416040</td>\n",
              "      <td>-1.261963</td>\n",
              "      <td>1.011953</td>\n",
              "      <td>9.588315</td>\n",
              "      <td>10.089292</td>\n",
              "      <td>calm</td>\n",
              "    </tr>\n",
              "    <tr>\n",
              "      <th>4</th>\n",
              "      <td>-574.555298</td>\n",
              "      <td>35.277279</td>\n",
              "      <td>-21.822271</td>\n",
              "      <td>13.926046</td>\n",
              "      <td>-16.524294</td>\n",
              "      <td>-8.877282</td>\n",
              "      <td>-11.371426</td>\n",
              "      <td>-19.489376</td>\n",
              "      <td>-5.584670</td>\n",
              "      <td>-1.907575</td>\n",
              "      <td>...</td>\n",
              "      <td>0.755291</td>\n",
              "      <td>-0.458310</td>\n",
              "      <td>-5.396890</td>\n",
              "      <td>-5.797887</td>\n",
              "      <td>-0.661944</td>\n",
              "      <td>1.487520</td>\n",
              "      <td>-0.044380</td>\n",
              "      <td>0.520410</td>\n",
              "      <td>5.811005</td>\n",
              "      <td>neutral</td>\n",
              "    </tr>\n",
              "  </tbody>\n",
              "</table>\n",
              "<p>5 rows × 41 columns</p>\n",
              "</div>\n",
              "      <button class=\"colab-df-convert\" onclick=\"convertToInteractive('df-8cbd3a37-40de-41e8-bc7f-16830431cf0f')\"\n",
              "              title=\"Convert this dataframe to an interactive table.\"\n",
              "              style=\"display:none;\">\n",
              "        \n",
              "  <svg xmlns=\"http://www.w3.org/2000/svg\" height=\"24px\"viewBox=\"0 0 24 24\"\n",
              "       width=\"24px\">\n",
              "    <path d=\"M0 0h24v24H0V0z\" fill=\"none\"/>\n",
              "    <path d=\"M18.56 5.44l.94 2.06.94-2.06 2.06-.94-2.06-.94-.94-2.06-.94 2.06-2.06.94zm-11 1L8.5 8.5l.94-2.06 2.06-.94-2.06-.94L8.5 2.5l-.94 2.06-2.06.94zm10 10l.94 2.06.94-2.06 2.06-.94-2.06-.94-.94-2.06-.94 2.06-2.06.94z\"/><path d=\"M17.41 7.96l-1.37-1.37c-.4-.4-.92-.59-1.43-.59-.52 0-1.04.2-1.43.59L10.3 9.45l-7.72 7.72c-.78.78-.78 2.05 0 2.83L4 21.41c.39.39.9.59 1.41.59.51 0 1.02-.2 1.41-.59l7.78-7.78 2.81-2.81c.8-.78.8-2.07 0-2.86zM5.41 20L4 18.59l7.72-7.72 1.47 1.35L5.41 20z\"/>\n",
              "  </svg>\n",
              "      </button>\n",
              "      \n",
              "  <style>\n",
              "    .colab-df-container {\n",
              "      display:flex;\n",
              "      flex-wrap:wrap;\n",
              "      gap: 12px;\n",
              "    }\n",
              "\n",
              "    .colab-df-convert {\n",
              "      background-color: #E8F0FE;\n",
              "      border: none;\n",
              "      border-radius: 50%;\n",
              "      cursor: pointer;\n",
              "      display: none;\n",
              "      fill: #1967D2;\n",
              "      height: 32px;\n",
              "      padding: 0 0 0 0;\n",
              "      width: 32px;\n",
              "    }\n",
              "\n",
              "    .colab-df-convert:hover {\n",
              "      background-color: #E2EBFA;\n",
              "      box-shadow: 0px 1px 2px rgba(60, 64, 67, 0.3), 0px 1px 3px 1px rgba(60, 64, 67, 0.15);\n",
              "      fill: #174EA6;\n",
              "    }\n",
              "\n",
              "    [theme=dark] .colab-df-convert {\n",
              "      background-color: #3B4455;\n",
              "      fill: #D2E3FC;\n",
              "    }\n",
              "\n",
              "    [theme=dark] .colab-df-convert:hover {\n",
              "      background-color: #434B5C;\n",
              "      box-shadow: 0px 1px 3px 1px rgba(0, 0, 0, 0.15);\n",
              "      filter: drop-shadow(0px 1px 2px rgba(0, 0, 0, 0.3));\n",
              "      fill: #FFFFFF;\n",
              "    }\n",
              "  </style>\n",
              "\n",
              "      <script>\n",
              "        const buttonEl =\n",
              "          document.querySelector('#df-8cbd3a37-40de-41e8-bc7f-16830431cf0f button.colab-df-convert');\n",
              "        buttonEl.style.display =\n",
              "          google.colab.kernel.accessAllowed ? 'block' : 'none';\n",
              "\n",
              "        async function convertToInteractive(key) {\n",
              "          const element = document.querySelector('#df-8cbd3a37-40de-41e8-bc7f-16830431cf0f');\n",
              "          const dataTable =\n",
              "            await google.colab.kernel.invokeFunction('convertToInteractive',\n",
              "                                                     [key], {});\n",
              "          if (!dataTable) return;\n",
              "\n",
              "          const docLinkHtml = 'Like what you see? Visit the ' +\n",
              "            '<a target=\"_blank\" href=https://colab.research.google.com/notebooks/data_table.ipynb>data table notebook</a>'\n",
              "            + ' to learn more about interactive tables.';\n",
              "          element.innerHTML = '';\n",
              "          dataTable['output_type'] = 'display_data';\n",
              "          await google.colab.output.renderOutput(dataTable, element);\n",
              "          const docLink = document.createElement('div');\n",
              "          docLink.innerHTML = docLinkHtml;\n",
              "          element.appendChild(docLink);\n",
              "        }\n",
              "      </script>\n",
              "    </div>\n",
              "  </div>\n",
              "  "
            ]
          },
          "metadata": {},
          "execution_count": 14
        }
      ],
      "source": [
        "data.head()"
      ]
    },
    {
      "cell_type": "markdown",
      "metadata": {
        "id": "bwaynNanqbkq"
      },
      "source": [
        "## Shuffling data"
      ]
    },
    {
      "cell_type": "code",
      "execution_count": null,
      "metadata": {
        "id": "19ikdvZJqbkq"
      },
      "outputs": [],
      "source": [
        "#reindexing to shuffle the data at random\n",
        "data = data.reindex(np.random.permutation(data.index))"
      ]
    },
    {
      "cell_type": "code",
      "execution_count": null,
      "metadata": {
        "id": "2GwjpCoXqbkr"
      },
      "outputs": [],
      "source": [
        "# Storing shuffled ravdess and tess data to avoid loading again\n",
        "data.to_csv(\"RAVTESS_MFCC_Observed.csv\")"
      ]
    },
    {
      "cell_type": "code",
      "execution_count": null,
      "metadata": {
        "id": "gJZnTmzHqbkr"
      },
      "outputs": [],
      "source": [
        ""
      ]
    }
  ],
  "metadata": {
    "colab": {
      "collapsed_sections": [],
      "name": "SER_SVM_Feature_Extraction_RAVTESS.ipynb",
      "provenance": []
    },
    "kernelspec": {
      "display_name": "Python 3",
      "language": "python",
      "name": "python3"
    },
    "language_info": {
      "codemirror_mode": {
        "name": "ipython",
        "version": 3
      },
      "file_extension": ".py",
      "mimetype": "text/x-python",
      "name": "python",
      "nbconvert_exporter": "python",
      "pygments_lexer": "ipython3",
      "version": "3.7.1"
    }
  },
  "nbformat": 4,
  "nbformat_minor": 0
}